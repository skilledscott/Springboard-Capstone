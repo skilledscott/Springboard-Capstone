{
 "cells": [
  {
   "cell_type": "markdown",
   "id": "2daf8fb1",
   "metadata": {},
   "source": [
    "# Shrinking dataset for initial model exploration\n",
    "\n",
    "Input directory must have images and an _annotations.csv file containing labels in the retinanet format."
   ]
  },
  {
   "cell_type": "markdown",
   "id": "ed4230af",
   "metadata": {},
   "source": [
    "### Import dependencies"
   ]
  },
  {
   "cell_type": "code",
   "execution_count": 116,
   "id": "930202e1",
   "metadata": {},
   "outputs": [],
   "source": [
    "import numpy as np\n",
    "import pandas as pd\n",
    "import os, shutil"
   ]
  },
  {
   "cell_type": "markdown",
   "id": "e6fcb826",
   "metadata": {},
   "source": [
    "### Setup paths and constants"
   ]
  },
  {
   "cell_type": "code",
   "execution_count": 117,
   "id": "af5befcc",
   "metadata": {},
   "outputs": [],
   "source": [
    "input_dataset_path = '../dataset/test/'\n",
    "output_dataset_path = '../dataset_small/test/'\n",
    "\n",
    "assert(os.path.exists(input_dataset_path))\n",
    "assert(os.path.exists(output_dataset_path))\n",
    "\n",
    "output_size = 200 # number of images to return"
   ]
  },
  {
   "cell_type": "markdown",
   "id": "b39d480c",
   "metadata": {},
   "source": [
    "### Read _annotations.csv file"
   ]
  },
  {
   "cell_type": "code",
   "execution_count": 118,
   "id": "fe7e3ee7",
   "metadata": {},
   "outputs": [
    {
     "data": {
      "text/plain": [
       "'../dataset/test//_annotations.csv'"
      ]
     },
     "execution_count": 118,
     "metadata": {},
     "output_type": "execute_result"
    }
   ],
   "source": [
    "'/'.join([input_dataset_path, '_annotations.csv'])"
   ]
  },
  {
   "cell_type": "code",
   "execution_count": 119,
   "id": "e4bb28ab",
   "metadata": {},
   "outputs": [
    {
     "name": "stdout",
     "output_type": "stream",
     "text": [
      "<class 'pandas.core.frame.DataFrame'>\n",
      "RangeIndex: 1884 entries, 0 to 1883\n",
      "Data columns (total 6 columns):\n",
      " #   Column     Non-Null Count  Dtype \n",
      "---  ------     --------------  ----- \n",
      " 0   file_name  1884 non-null   object\n",
      " 1   x1         1884 non-null   int64 \n",
      " 2   y1         1884 non-null   int64 \n",
      " 3   x2         1884 non-null   int64 \n",
      " 4   y2         1884 non-null   int64 \n",
      " 5   label      1884 non-null   object\n",
      "dtypes: int64(4), object(2)\n",
      "memory usage: 88.4+ KB\n"
     ]
    }
   ],
   "source": [
    "# read in the annotations file and provide column labels\n",
    "labels = ['file_name', 'x1', 'y1', 'x2', 'y2', 'label']\n",
    "bboxes_df = pd.read_csv(input_dataset_path + '_annotations.csv', sep=',', header=None, names=labels)\n",
    "bboxes_df.info()"
   ]
  },
  {
   "cell_type": "code",
   "execution_count": 120,
   "id": "383db9a8",
   "metadata": {},
   "outputs": [],
   "source": [
    "# drop all rows that don't have label 'car'\n",
    "bboxes_df = bboxes_df[bboxes_df['label'] == 'car']"
   ]
  },
  {
   "cell_type": "code",
   "execution_count": 121,
   "id": "d3d9080c",
   "metadata": {},
   "outputs": [],
   "source": [
    "# if the total number of images is less than output_size, reduce output_size to the\n",
    "# total amount of unique image names.\n",
    "\n",
    "unique_file_names = len(bboxes_df['file_name'].unique())\n",
    "if unique_file_names < output_size:\n",
    "    output_size = unique_file_names"
   ]
  },
  {
   "cell_type": "markdown",
   "id": "7d280c36",
   "metadata": {},
   "source": [
    "### Pick a random sample of images (file_name)\n",
    "\n",
    "- Sample output_size images from bboxes_df.\n",
    "- Create mapping of file_name to img_1, img_2...\n",
    "- Construct output df with only labels for those images."
   ]
  },
  {
   "cell_type": "code",
   "execution_count": 122,
   "id": "01a9c760",
   "metadata": {
    "scrolled": true
   },
   "outputs": [
    {
     "name": "stdout",
     "output_type": "stream",
     "text": [
      "length of subset: 200\n",
      "\n",
      "Name Mapping:\n",
      "\n",
      "1478732704040480944_jpg.rf.247052eee42a713b33df0938aad4ac67.jpg -> img1.jpg\n",
      "1478896462764592863_jpg.rf.f61181266143bd8d959f1130fae5ed98.jpg -> img2.jpg\n",
      "1478896308515808431_jpg.rf.78681db0a7ecc78e32e958401642b959.jpg -> img3.jpg\n"
     ]
    }
   ],
   "source": [
    "# sample file names\n",
    "file_names = bboxes_df['file_name'].unique()\n",
    "file_names_subset = np.random.choice(file_names, size=output_size, replace=False)\n",
    "print('length of subset: {}\\n'.format(len(file_names_subset)))\n",
    "\n",
    "# create name mapping. Example: '1478732900171504336_jpg.rf.7423b62a846b66cadd0ef67daa59cb83.jpg' -> 'img1.jpg'\n",
    "file_names_mapping = {file_names_subset[i]: 'img{}.jpg'.format(i+1) for i in range(len(file_names_subset))}\n",
    "print('Name Mapping:\\n')\n",
    "for i in range(3):\n",
    "    print(file_names_subset[i] + ' -> ' + file_names_mapping[file_names_subset[i]])"
   ]
  },
  {
   "cell_type": "code",
   "execution_count": 123,
   "id": "0984147c",
   "metadata": {
    "scrolled": false
   },
   "outputs": [],
   "source": [
    "bboxes_subset_df = bboxes_df[bboxes_df['file_name'].isin(file_names_subset)]\n",
    "\n",
    "assert(bboxes_subset_df['file_name'].unique().size == output_size)"
   ]
  },
  {
   "cell_type": "markdown",
   "id": "978d9ec2",
   "metadata": {},
   "source": [
    "### Move images and write to output _annotations.csv file"
   ]
  },
  {
   "cell_type": "code",
   "execution_count": 124,
   "id": "a20ff785",
   "metadata": {},
   "outputs": [],
   "source": [
    "# move images from subset and rename with file_names_mapping\n",
    "for name in bboxes_subset_df['file_name'].unique():\n",
    "    shutil.copy(input_dataset_path + name, output_dataset_path + file_names_mapping[name])"
   ]
  },
  {
   "cell_type": "code",
   "execution_count": 125,
   "id": "622fac32",
   "metadata": {},
   "outputs": [],
   "source": [
    "# map file_names_mapping to file_name in df\n",
    "bboxes_subset_df = bboxes_subset_df.assign(**{'file_name': bboxes_subset_df['file_name'].map(file_names_mapping)})\n",
    "\n",
    "# write to csv\n",
    "bboxes_subset_df.to_csv(output_dataset_path + '_annotations.csv', header=False, index=False)"
   ]
  }
 ],
 "metadata": {
  "kernelspec": {
   "display_name": "Python 3 (ipykernel)",
   "language": "python",
   "name": "python3"
  },
  "language_info": {
   "codemirror_mode": {
    "name": "ipython",
    "version": 3
   },
   "file_extension": ".py",
   "mimetype": "text/x-python",
   "name": "python",
   "nbconvert_exporter": "python",
   "pygments_lexer": "ipython3",
   "version": "3.9.15"
  }
 },
 "nbformat": 4,
 "nbformat_minor": 5
}
